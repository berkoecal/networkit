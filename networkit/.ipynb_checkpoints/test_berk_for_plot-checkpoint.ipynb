{
 "cells": [
  {
   "cell_type": "code",
   "execution_count": 1,
   "metadata": {},
   "outputs": [
    {
     "name": "stdout",
     "output_type": "stream",
     "text": [
      "\u001b[0m\u001b[01;32malgebraic.py\u001b[0m*    distance.py      \u001b[01;32m__init__.py\u001b[0m*       scd.py\r\n",
      "\u001b[01;32mbuild.sh\u001b[0m*        \u001b[01;32mdynamic.py\u001b[0m*      linkprediction.py  simulation.py\r\n",
      "\u001b[01;32mcentrality.py\u001b[0m*   \u001b[01;32mengineering.py\u001b[0m*  matching.py        sparsification.py\r\n",
      "clique.py        flow.py          _NetworKit.cpp     stats.py\r\n",
      "coarsening.py    generators.py    _NetworKit.pyx     \u001b[01;32mstopwatch.py\u001b[0m*\r\n",
      "\u001b[01;32mcoloring.py\u001b[0m*     \u001b[01;34mgephi\u001b[0m/           \u001b[01;32mnxadapter.py\u001b[0m*      \u001b[01;32mstructures.py\u001b[0m*\r\n",
      "\u001b[01;32mcommunity.py\u001b[0m*    GEXFIO.py        \u001b[01;32mpartitioning.py\u001b[0m*   \u001b[01;34mtest\u001b[0m/\r\n",
      "components.py    globals.py       plot.py            Untitled.ipynb\r\n",
      "correlation.py   \u001b[01;32mgraphio.py\u001b[0m*      \u001b[01;34mprofiling\u001b[0m/         viz.py\r\n",
      "\u001b[01;34mcpp\u001b[0m/             \u001b[01;32mGraphMLIO.py\u001b[0m*    \u001b[01;34m__pycache__\u001b[0m/       \u001b[01;32mviztasks.py\u001b[0m*\r\n",
      "cython_helper.h  \u001b[01;32mgraph.py\u001b[0m*        sampling.py        \u001b[01;32mworkflows.py\u001b[0m*\r\n"
     ]
    }
   ],
   "source": [
    "ls"
   ]
  },
  {
   "cell_type": "code",
   "execution_count": 17,
   "metadata": {},
   "outputs": [],
   "source": [
    "%matplotlib inline\n",
    "import matplotlib.pyplot as plt"
   ]
  },
  {
   "cell_type": "code",
   "execution_count": 18,
   "metadata": {},
   "outputs": [
    {
     "data": {
      "text/plain": [
       "'/home/berk/projects/networkit'"
      ]
     },
     "execution_count": 18,
     "metadata": {},
     "output_type": "execute_result"
    }
   ],
   "source": [
    "pwd"
   ]
  },
  {
   "cell_type": "code",
   "execution_count": 24,
   "metadata": {},
   "outputs": [
    {
     "name": "stdout",
     "output_type": "stream",
     "text": [
      "/home/berk/projects/networkit\n"
     ]
    }
   ],
   "source": [
    "cd networkit/"
   ]
  },
  {
   "cell_type": "code",
   "execution_count": 25,
   "metadata": {},
   "outputs": [],
   "source": [
    "from networkit import*"
   ]
  },
  {
   "cell_type": "code",
   "execution_count": 35,
   "metadata": {},
   "outputs": [],
   "source": [
    "G = readGraph(\"input/example.graph\", Format.METIS)"
   ]
  },
  {
   "cell_type": "code",
   "execution_count": 36,
   "metadata": {},
   "outputs": [
    {
     "data": {
      "image/png": "[encoded data removed]",
      "text/plain": [
       "<matplotlib.figure.Figure at 0x7fda646a2630>"
      ]
     },
     "metadata": {},
     "output_type": "display_data"
    }
   ],
   "source": [
    "viztasks.drawGraph(G)\n",
    "plt.show()"
   ]
  },
  {
   "cell_type": "code",
   "execution_count": 39,
   "metadata": {},
   "outputs": [],
   "source": [
    "cc = components.ConnectedComponents(G)"
   ]
  },
  {
   "cell_type": "code",
   "execution_count": 40,
   "metadata": {},
   "outputs": [
    {
     "data": {
      "text/plain": [
       "<_NetworKit.ConnectedComponents at 0x7fda643ffe10>"
      ]
     },
     "execution_count": 40,
     "metadata": {},
     "output_type": "execute_result"
    }
   ],
   "source": [
    "cc.run()"
   ]
  },
  {
   "cell_type": "code",
   "execution_count": 41,
   "metadata": {},
   "outputs": [
    {
     "data": {
      "text/plain": [
       "2"
      ]
     },
     "execution_count": 41,
     "metadata": {},
     "output_type": "execute_result"
    }
   ],
   "source": [
    "cc.numberOfComponents()"
   ]
  },
  {
   "cell_type": "code",
   "execution_count": 43,
   "metadata": {},
   "outputs": [],
   "source": [
    "dijkstra = distance.BFS(G,0)"
   ]
  },
  {
   "cell_type": "code",
   "execution_count": 44,
   "metadata": {},
   "outputs": [
    {
     "data": {
      "text/plain": [
       "<_NetworKit.BFS at 0x7fda649c47f0>"
      ]
     },
     "execution_count": 44,
     "metadata": {},
     "output_type": "execute_result"
    }
   ],
   "source": [
    "dijkstra.run()"
   ]
  },
  {
   "cell_type": "code",
   "execution_count": 45,
   "metadata": {},
   "outputs": [],
   "source": [
    "bfsdist= dijkstra.getDistances()"
   ]
  },
  {
   "cell_type": "code",
   "execution_count": 49,
   "metadata": {},
   "outputs": [
    {
     "data": {
      "text/plain": [
       "1.7976931348623157e+308"
      ]
     },
     "execution_count": 49,
     "metadata": {},
     "output_type": "execute_result"
    }
   ],
   "source": [
    "bfsdist[2]"
   ]
  },
  {
   "cell_type": "code",
   "execution_count": null,
   "metadata": {},
   "outputs": [],
   "source": []
  }
 ],
 "metadata": {
  "kernelspec": {
   "display_name": "Python 3",
   "language": "python",
   "name": "python3"
  },
  "language_info": {
   "codemirror_mode": {
    "name": "ipython",
    "version": 3
   },
   "file_extension": ".py",
   "mimetype": "text/x-python",
   "name": "python",
   "nbconvert_exporter": "python",
   "pygments_lexer": "ipython3",
   "version": "3.5.2"
  }
 },
 "nbformat": 4,
 "nbformat_minor": 2
}
